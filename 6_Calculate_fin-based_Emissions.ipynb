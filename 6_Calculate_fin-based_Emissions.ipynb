{
 "cells": [
  {
   "cell_type": "markdown",
   "metadata": {},
   "source": [
    "# Import Libraries"
   ]
  },
  {
   "cell_type": "code",
   "execution_count": 1,
   "metadata": {},
   "outputs": [],
   "source": [
    "import pandas as pd\n",
    "import numpy as np\n",
    "import matplotlib.pyplot as plt\n",
    "import time\n",
    "timestr = time.strftime(\"%Y%m%d\")"
   ]
  },
  {
   "cell_type": "markdown",
   "metadata": {},
   "source": [
    "# Import Data"
   ]
  },
  {
   "cell_type": "code",
   "execution_count": 2,
   "metadata": {},
   "outputs": [],
   "source": [
    "#Import Colorcode\n",
    "df_colors = pd.read_csv('.//for_paper//colors//df_colors.csv', index_col=0)\n",
    "dict_colors = pd.DataFrame.to_dict(df_colors)['0']"
   ]
  },
  {
   "cell_type": "code",
   "execution_count": 3,
   "metadata": {},
   "outputs": [
    {
     "name": "stderr",
     "output_type": "stream",
     "text": [
      "c:\\users\\mann\\appdata\\local\\programs\\python\\python37-32\\lib\\site-packages\\IPython\\core\\interactiveshell.py:3058: DtypeWarning: Columns (8,14,15,31) have mixed types. Specify dtype option on import or set low_memory=False.\n",
      "  interactivity=interactivity, compiler=compiler, result=result)\n"
     ]
    }
   ],
   "source": [
    "#import datasets\n",
    "zd = '2020_01'\n",
    "df_dev_all = pd.read_csv('.//for_paper//df_overview//df_dev_'+zd+'_final_names.csv', decimal=',', sep=';', index_col=0)\n",
    "df_dev_wo_can = df_dev_all[df_dev_all['Status']!='Cancelled']\n",
    "df_dev_2015_onwards_wo_can = df_dev_wo_can[(df_dev_wo_can['Year']>=2015) | (df_dev_wo_can['Year']==0)]\n",
    "df_dev = df_dev_2015_onwards_wo_can.copy()\n",
    "\n",
    "zf = '2012_2019'\n",
    "df_fin = pd.read_csv('.//for_paper//df_overview//df_fin_'+zf+'_final_names.csv', decimal=',', sep=';', index_col=0)\n",
    "\n",
    "\n",
    "zi = '2019' \n",
    "df_inv = pd.read_csv('.//for_paper//df_overview//df_inv_'+zi+'_final_names.csv', decimal=',', sep=';', index_col=0)"
   ]
  },
  {
   "cell_type": "markdown",
   "metadata": {},
   "source": [
    "# create dataframes"
   ]
  },
  {
   "cell_type": "code",
   "execution_count": 4,
   "metadata": {},
   "outputs": [],
   "source": [
    "#create individual dfs for loans & udnerwriting\n",
    "df_loans = df_fin[df_fin['Type of Financing (short)']== 'Loans'].reset_index(drop=True)\n",
    "df_under = df_fin[df_fin['Type of Financing (short)']== 'Underwriting'].reset_index(drop=True)"
   ]
  },
  {
   "cell_type": "code",
   "execution_count": 5,
   "metadata": {},
   "outputs": [],
   "source": [
    "#create one df combining loans&underwriting and bond&shareholding, so including all relevant financing!\n",
    "df_finv = df_inv.copy()\n",
    "df_finv.rename(columns={'Type of financing (short)':'Type of Financing (short)', 'Share Total':'Grand Total', \\\n",
    "                       'INV':'FIN', 'INV Country':'FIN Country', 'INV Region':'FIN Region', \\\n",
    "                       'INV Annex 1':'FIN Annex 1'}, inplace=True)\n",
    "df_finv = pd.concat((df_finv,df_fin))"
   ]
  },
  {
   "cell_type": "code",
   "execution_count": 6,
   "metadata": {},
   "outputs": [],
   "source": [
    "#rename columns in df_inv\n",
    "df_inv = df_inv.rename(columns={'Share Total':'Grand Total'})"
   ]
  },
  {
   "cell_type": "markdown",
   "metadata": {},
   "source": [
    "# Overview of Data"
   ]
  },
  {
   "cell_type": "code",
   "execution_count": 7,
   "metadata": {},
   "outputs": [],
   "source": [
    "#create dev dataset only with the DEV from the 4 different fin\n",
    "df_dev_loans = df_dev[df_dev['DEV'].isin(set(df_loans['DEV']))]\n",
    "df_dev_under = df_dev[df_dev['DEV'].isin(set(df_under['DEV']))]\n",
    "df_dev_fin = df_dev[df_dev['DEV'].isin(set(df_fin['DEV']))]\n",
    "df_dev_inv = df_dev[df_dev['DEV'].isin(set(df_inv['DEV']))]\n",
    "df_dev_finv = df_dev[df_dev['DEV'].isin(set(df_finv['DEV']))]"
   ]
  },
  {
   "cell_type": "code",
   "execution_count": 8,
   "metadata": {},
   "outputs": [],
   "source": [
    "#create the fin datasets only with the DEV from the dev dataset for each fin\n",
    "df_loans_dev = df_loans[df_loans['DEV'].isin(set(df_dev_loans['DEV']))]\n",
    "df_under_dev = df_under[df_under['DEV'].isin(set(df_dev_under['DEV']))]\n",
    "df_fin_dev = df_fin[df_fin['DEV'].isin(set(df_dev_fin['DEV']))]\n",
    "df_inv_dev = df_inv[df_inv['DEV'].isin(set(df_dev_inv['DEV']))]\n",
    "df_finv_dev = df_finv[df_finv['DEV'].isin(set(df_dev_finv['DEV']))]"
   ]
  },
  {
   "cell_type": "code",
   "execution_count": 9,
   "metadata": {},
   "outputs": [],
   "source": [
    "list_dimension = ['loans', 'underwriting', 'loans+underwriting', 'bonds+shares', 'total financing']\n",
    "dict_df_dimension_dev = {'loans':df_loans_dev, 'underwriting':df_under_dev, \\\n",
    "    'loans+underwriting':df_fin_dev, 'bonds+shares':df_inv_dev, 'total financing':df_finv_dev}\n",
    "dict_df_dev_dimension = {'loans':df_dev_loans, 'underwriting':df_dev_under, \\\n",
    "    'loans+underwriting':df_dev_fin, 'bonds+shares':df_dev_inv, 'total financing':df_dev_finv}"
   ]
  },
  {
   "cell_type": "code",
   "execution_count": 10,
   "metadata": {},
   "outputs": [],
   "source": [
    "#create df overview of numbers\n",
    "df_overview = pd.DataFrame()\n",
    "\n",
    "n = 0\n",
    "for x in list_dimension:\n",
    "    df_overview.loc[n,'Financing Dimension'] = x\n",
    "    df_overview.loc[n,'Number of Matching Developers'] = int(len(set(dict_df_dimension_dev[x]['DEV'])))\n",
    "    df_overview.loc[n,'Total Volume [US$ bn]'] = int(dict_df_dimension_dev[x]['Grand Total'].sum()/1000)\n",
    "    df_overview.loc[n,'Capacity [GW]'] = int(dict_df_dev_dimension[x]['Capacity (MW)'].sum()/1000)\n",
    "    df_overview.loc[n,'Ratio [US$ per kW]'] = \\\n",
    "        int(dict_df_dimension_dev[x]['Grand Total'].sum()/dict_df_dev_dimension[x]['Capacity (MW)'].sum()*1000)\n",
    "    df_overview.loc[n,'Lifetime Emissions [Mt CO2]'] = int(dict_df_dev_dimension[x]['Lifetime CO2'].sum()/1000)\n",
    "    df_overview.loc[n,'Ratio [tCO2 per US$]'] = \\\n",
    "        (dict_df_dev_dimension[x]['Lifetime CO2'].sum()/dict_df_dimension_dev[x]['Grand Total'].sum()).round(3)\n",
    "    n+=1\n",
    "\n",
    "df_overview.to_csv('.//for_paper//df_overview//df_emissions_dimension_\\\n",
    "dev_'+zd+'_fin_'+zf+'_inv_'+zi+'_overview_'+timestr+'.csv', decimal=',', sep=';',)"
   ]
  },
  {
   "cell_type": "markdown",
   "metadata": {},
   "source": [
    "# Compile one Dataframe"
   ]
  },
  {
   "cell_type": "code",
   "execution_count": 38,
   "metadata": {},
   "outputs": [],
   "source": [
    "#group the financing volume for each component for the included developers by country\n",
    "##loans\n",
    "rat_loans = df_dev_loans['Lifetime CO2'].sum()/df_loans_dev['Grand Total'].sum()\n",
    "df_loans_em = df_loans_dev.groupby(['FIN Country'],as_index=False)[['Grand Total']].sum(). \\\n",
    "    sort_values(['Grand Total'], ascending=False).reset_index(drop=True)\n",
    "df_loans_em['loans_em_Gt'] = (df_loans_em['Grand Total'] * rat_loans /1000)\n",
    "df_loans_em['Grand Total'] = (df_loans_em['Grand Total']/1000 )\n",
    "df_loans_em.rename(columns={'Grand Total':'Loans_bn'}, inplace=True)\n",
    "df_loans_em['loans_em_%'] = ((df_loans_em['loans_em_Gt'] / df_loans_em['loans_em_Gt'].sum())*100)\n",
    "\n",
    "##under\n",
    "rat_under = df_dev_under['Lifetime CO2'].sum()/df_under_dev['Grand Total'].sum()\n",
    "df_under_em = df_under_dev.groupby(['FIN Country'],as_index=False)[['Grand Total']].sum(). \\\n",
    "    sort_values(['Grand Total'], ascending=False).reset_index(drop=True)\n",
    "df_under_em['under_em_Gt'] = (df_under_em['Grand Total'] * rat_under /1000)\n",
    "df_under_em['Grand Total'] = (df_under_em['Grand Total']/1000 )\n",
    "df_under_em.rename(columns={'Grand Total':'under_bn'}, inplace=True)\n",
    "df_under_em['under_em_%'] = ((df_under_em['under_em_Gt'] / df_under_em['under_em_Gt'].sum())*100)\n",
    "\n",
    "##fin\n",
    "rat_fin = df_dev_fin['Lifetime CO2'].sum()/df_fin_dev['Grand Total'].sum()\n",
    "df_fin_em = df_fin_dev.groupby(['FIN Country'],as_index=False)[['Grand Total']].sum(). \\\n",
    "    sort_values(['Grand Total'], ascending=False).reset_index(drop=True)\n",
    "df_fin_em['fin_em_Gt'] = (df_fin_em['Grand Total'] * rat_fin /1000)\n",
    "df_fin_em['Grand Total'] = (df_fin_em['Grand Total']/1000 )\n",
    "df_fin_em.rename(columns={'Grand Total':'fin_bn'}, inplace=True)\n",
    "df_fin_em['fin_em_%'] = ((df_fin_em['fin_em_Gt'] / df_fin_em['fin_em_Gt'].sum())*100)\n",
    "\n",
    "##inv\n",
    "rat_inv = df_dev_inv['Lifetime CO2'].sum()/df_inv_dev['Grand Total'].sum()\n",
    "df_inv_em = df_inv_dev.groupby(['INV Country'],as_index=False)[['Grand Total']].sum(). \\\n",
    "    sort_values(['Grand Total'], ascending=False).reset_index(drop=True)\n",
    "df_inv_em['inv_em_Gt'] = (df_inv_em['Grand Total'] * rat_inv /1000)\n",
    "df_inv_em['Grand Total'] = (df_inv_em['Grand Total']/1000 )\n",
    "df_inv_em.rename(columns={'Grand Total':'inv_bn', 'INV Country':'FIN Country'}, inplace=True)\n",
    "df_inv_em['inv_em_%'] = ((df_inv_em['inv_em_Gt'] / df_inv_em['inv_em_Gt'].sum())*100)\n",
    "\n",
    "##finv\n",
    "rat_finv = df_dev_finv['Lifetime CO2'].sum()/df_finv_dev['Grand Total'].sum()\n",
    "df_finv_em = df_finv_dev.groupby(['FIN Country'],as_index=False)[['Grand Total']].sum(). \\\n",
    "    sort_values(['Grand Total'], ascending=False).reset_index(drop=True)\n",
    "df_finv_em['finv_em_Gt'] = (df_finv_em['Grand Total'] * rat_finv /1000)\n",
    "df_finv_em['Grand Total'] = (df_finv_em['Grand Total']/1000 )\n",
    "df_finv_em.rename(columns={'Grand Total':'finv_bn'}, inplace=True)\n",
    "df_finv_em['finv_em_%'] = ((df_finv_em['finv_em_Gt'] / df_finv_em['finv_em_Gt'].sum())*100)\n",
    "\n",
    "##dev\n",
    "##this df_dev includes all the DEV from inv & dev, and therefore all relevant capacity\n",
    "df_site_em = df_dev_finv.groupby(['Site Country'], as_index=False)[['Capacity (MW)', 'Lifetime CO2']].sum()\n",
    "df_site_em['site_GW'] = (df_site_em['Capacity (MW)']/1000)\n",
    "df_site_em['site_em_Gt'] = (df_site_em['Lifetime CO2']/1000)\n",
    "df_site_em['site_em_%'] = ((df_site_em['site_em_Gt']/df_site_em['site_em_Gt'].sum())*100)\n",
    "df_site_em.drop(columns={'Capacity (MW)', 'Lifetime CO2'}, inplace=True)\n",
    "df_site_em.rename(columns={'Site Country':'FIN Country'}, inplace=True)\n",
    "\n",
    "##site\n",
    "df_dev_em = df_dev_finv.groupby(['DEV Country'], as_index=False)[['Capacity (MW)', 'Lifetime CO2']].sum()\n",
    "#drop 'unknown', because we want to have only share of Annex/non-annex! \n",
    "df_dev_em = df_dev_em[df_dev_em['DEV Country']!='unknown']\n",
    "df_dev_em['dev_GW'] = (df_dev_em['Capacity (MW)']/1000)\n",
    "df_dev_em['dev_em_Gt'] = (df_dev_em['Lifetime CO2']/1000)\n",
    "df_dev_em['dev_em_%'] = ((df_dev_em['dev_em_Gt']/df_dev_em['dev_em_Gt'].sum())*100)\n",
    "df_dev_em.drop(columns={'Capacity (MW)', 'Lifetime CO2'}, inplace=True)\n",
    "df_dev_em.rename(columns={'DEV Country':'FIN Country'}, inplace=True)"
   ]
  },
  {
   "cell_type": "code",
   "execution_count": 39,
   "metadata": {},
   "outputs": [],
   "source": [
    "#create one dataframe with all emissions etc\n",
    "#order: site, dev, total fin, loans, underwr, equity\n",
    "\n",
    "df_em =  df_site_em.\\\n",
    "    merge(df_dev_em, on='FIN Country',how='outer').\\\n",
    "    merge(df_finv_em,on='FIN Country',how='outer').\\\n",
    "    merge(df_loans_em,on='FIN Country',how='outer').\\\n",
    "    merge(df_under_em,on='FIN Country',how='outer').\\\n",
    "    merge(df_inv_em,on='FIN Country',how='outer').\\\n",
    "    merge(df_fin_em,on='FIN Country',how='outer').\\\n",
    "    fillna(0)\n"
   ]
  },
  {
   "cell_type": "code",
   "execution_count": 40,
   "metadata": {},
   "outputs": [],
   "source": [
    "#include column on annex I / non-annex I, from both, fin & dev!!\n",
    "df_annexI_fin = df_finv.groupby(['FIN Country','FIN Annex 1'])[[]].sum().reset_index()\n",
    "df_annexI_dev = df_dev.groupby(['DEV Country','DEV Annex 1'])[[]].sum().reset_index().\\\n",
    "    rename(columns={'DEV Country':'FIN Country', 'DEV Annex 1':'FIN Annex 1'})\n",
    "#drop 'unknown', because we want to have only share of Annex/non-annex! \n",
    "df_annexI_dev = df_annexI_dev[df_annexI_dev['FIN Country']!='unknown']\n",
    "df_annexI_site = df_dev.groupby(['Site Country','Site Annex 1'])[[]].sum().reset_index().\\\n",
    "    rename(columns={'Site Country':'FIN Country', 'Site Annex 1':'FIN Annex 1'})\n",
    "\n",
    "df_annexI = df_annexI_fin.merge(df_annexI_dev, on=['FIN Country', 'FIN Annex 1'],how='outer').\\\n",
    "    merge(df_annexI_site, on=['FIN Country', 'FIN Annex 1'],how='outer')\n",
    "\n",
    "df_em_graph = df_em.merge(df_annexI,on='FIN Country',how='outer').fillna(0)\n"
   ]
  },
  {
   "cell_type": "code",
   "execution_count": 41,
   "metadata": {},
   "outputs": [],
   "source": [
    "#export dataframe\n",
    "df_em_graph.to_csv('.//for_paper//df_overview//df_emission_graph_\\\n",
    "dev_'+zd+'_fin_'+zf+'_inv_'+zi+'_countries_20200515.csv', sep=';', decimal=',')"
   ]
  },
  {
   "cell_type": "markdown",
   "metadata": {},
   "source": [
    "# create dataframe to compare territorial & financed-based emissions"
   ]
  },
  {
   "cell_type": "code",
   "execution_count": 42,
   "metadata": {},
   "outputs": [],
   "source": [
    "df_em_compare = pd.read_csv('.//for_paper//df_overview//df_emission_graph_\\\n",
    "dev_'+zd+'_fin_'+zf+'_inv_'+zi+'_countries_'+timestr+'.csv', sep=';', decimal=',', index_col=0)"
   ]
  },
  {
   "cell_type": "code",
   "execution_count": 43,
   "metadata": {},
   "outputs": [],
   "source": [
    "df_em_compare = df_em_compare.drop(columns={'site_em_%', 'dev_GW', 'dev_em_Gt', 'dev_em_%', 'finv_em_%', \\\n",
    "    'Loans_bn', 'loans_em_Gt', 'loans_em_%', 'under_bn', 'under_em_Gt', 'under_em_%', 'inv_bn', 'inv_em_Gt',\\\n",
    "    'inv_em_%', 'fin_bn', 'fin_em_Gt', 'fin_em_%', 'FIN Annex 1'}).sort_values(by='finv_bn', ascending=False).\\\n",
    "    reset_index(drop=True)\n",
    "df_em_compare = df_em_compare[['FIN Country','site_em_Gt', 'site_GW', 'finv_em_Gt', 'finv_bn']]\n"
   ]
  },
  {
   "cell_type": "code",
   "execution_count": 44,
   "metadata": {},
   "outputs": [],
   "source": [
    "df_em_compare['Change total'] = df_em_compare['finv_em_Gt']-df_em_compare['site_em_Gt']\n",
    "df_em_compare['Change %'] = df_em_compare['Change total']/df_em_compare['site_em_Gt']*100"
   ]
  },
  {
   "cell_type": "code",
   "execution_count": 71,
   "metadata": {},
   "outputs": [],
   "source": [
    "df_em_compare = df_em_compare.replace([np.inf, -np.inf], 0)\n",
    "df_em_compare = df_em_compare.fillna(0)\n",
    "df_em_compare = df_em_compare.round(1)"
   ]
  },
  {
   "cell_type": "code",
   "execution_count": 72,
   "metadata": {},
   "outputs": [],
   "source": [
    "df_em_compare.to_csv('.//for_paper//df_overview//df_emission_compare_ter_fin_\\\n",
    "dev_'+zd+'_fin_'+zf+'_inv_'+zi+'_countries_'+timestr+'.csv', sep=';', decimal=',')"
   ]
  },
  {
   "cell_type": "markdown",
   "metadata": {},
   "source": [
    "# Plot Graph"
   ]
  },
  {
   "cell_type": "code",
   "execution_count": 5,
   "metadata": {},
   "outputs": [],
   "source": [
    "#import df\n",
    "df_em_graph = pd.read_csv('.//for_paper//df_overview//df_emission_graph_\\\n",
    "dev_'+zd+'_fin_'+zf+'_inv_'+zi+'_countries_20200515.csv', sep=';', decimal=',', index_col=0)"
   ]
  },
  {
   "cell_type": "code",
   "execution_count": 6,
   "metadata": {},
   "outputs": [],
   "source": [
    "#merge EU28 countries \n",
    "##make list with all EU28 countries\n",
    "list_EU28 = ['Austria', 'Italy', 'Belgium', 'Latvia', 'Bulgaria', 'Lithuania', 'Croatia', 'Luxembourg', 'Cyprus', \\\n",
    "             'Malta', 'Czech Republic', 'Netherlands', 'Denmark', 'Poland', 'Estonia', 'Portugal', 'Finland', 'Romania', \\\n",
    "             'France', 'Slovakia', 'Germany', 'Slovenia', 'Greece', 'Spain', 'Hungary', 'Sweden', 'Ireland', \\\n",
    "            'United Kingdom', 'England', 'Isle of Man']\n",
    "##make new entry (row) and add up the values\n",
    "df_em_graph = df_em_graph.append({'FIN Country':'EU28'}, ignore_index=True)\n",
    "df_em_graph.fillna(0, inplace=True)\n",
    "EU28_idx = df_em_graph[df_em_graph['FIN Country'] == 'EU28'].index[0]\n",
    "for y in df_em_graph.index:\n",
    "    if df_em_graph.loc[y, 'FIN Country'] in list_EU28:\n",
    "        for z in list(df_em_graph)[1:-1]:\n",
    "            df_em_graph.loc[EU28_idx, z] += df_em_graph.loc[y, z]\n",
    "        df_em_graph.drop(y, inplace=True)\n",
    "        #print(df_em_graph.loc[y, 'FIN Country'])\n",
    "\n",
    "##set EU28 as annex_I\n",
    "df_em_graph.loc[EU28_idx, 'FIN Annex 1'] = 'annex_1'\n",
    "df_em_graph.reset_index(drop=True, inplace=True)"
   ]
  },
  {
   "cell_type": "code",
   "execution_count": 7,
   "metadata": {},
   "outputs": [],
   "source": [
    "#show the names of the biggest countries in the graph\n",
    "#var_number = 3\n",
    "#first I did with numbers, now with share, share should be higher than:\n",
    "var_min_share = 3 # in %, earlier 4, now 3\n"
   ]
  },
  {
   "cell_type": "code",
   "execution_count": 8,
   "metadata": {},
   "outputs": [],
   "source": [
    "#for each component I need the x biggest countries + other with their share for both, ann & non-ann\n",
    "##do df for annex I and non-annex I\n",
    "df_em_graph_nonannI = df_em_graph[df_em_graph['FIN Annex 1']=='non_annex_1'].reset_index(drop=True)\n",
    "df_em_graph_annI = df_em_graph[df_em_graph['FIN Annex 1']=='annex_1'].reset_index(drop=True)"
   ]
  },
  {
   "cell_type": "code",
   "execution_count": 9,
   "metadata": {},
   "outputs": [],
   "source": [
    "#create df for every component\n",
    "##non-annex\n",
    "df_nonann_site = pd.DataFrame\n",
    "df_nonann_dev = pd.DataFrame\n",
    "df_nonann_finv = pd.DataFrame\n",
    "df_nonann_loans = pd.DataFrame\n",
    "df_nonann_under = pd.DataFrame\n",
    "#df_nonann_fin = pd.DataFrame\n",
    "df_nonann_inv = pd.DataFrame\n",
    "\n",
    "\n",
    "dict_nonann = {'site_em_%':df_nonann_site, 'dev_em_%' : df_nonann_dev, 'finv_em_%':df_nonann_finv, \\\n",
    "               'loans_em_%':df_nonann_loans, 'under_em_%':df_nonann_under, 'inv_em_%':df_nonann_inv} #'fin_em_%':df_nonann_fin, "
   ]
  },
  {
   "cell_type": "code",
   "execution_count": 10,
   "metadata": {},
   "outputs": [],
   "source": [
    "for x in dict_nonann.keys():\n",
    "    dict_nonann[x] = df_em_graph_nonannI.groupby(['FIN Country'], as_index=False)[[x]].\\\n",
    "        sum().sort_values(x, ascending=False).reset_index(drop=True)\n",
    "    dict_nonann[x] = dict_nonann[x].append({'FIN Country':'Other', x:0}, ignore_index=True)\n",
    "    idx_other = len(dict_nonann[x])-1\n",
    "    for y in range(0, len(dict_nonann[x])-1): #if you want to go back to fix number change here!\n",
    "        if dict_nonann[x].loc[y, x] <=var_min_share:\n",
    "            dict_nonann[x].loc[idx_other, x] += dict_nonann[x].loc[y, x]\n",
    "            dict_nonann[x].drop(y, inplace=True)\n",
    "    dict_nonann[x].reset_index(drop=True, inplace=True)"
   ]
  },
  {
   "cell_type": "code",
   "execution_count": 11,
   "metadata": {},
   "outputs": [],
   "source": [
    "#add sum so that I can draw a line in graph\n",
    "for x in dict_nonann.keys():\n",
    "    dict_nonann[x][x+'_sum'] = 0\n",
    "    for z in range((len(dict_nonann[x])-2),-1,-1):\n",
    "        dict_nonann[x].loc[z, x+'_sum'] = dict_nonann[x].loc[z+1, x+'_sum'] + dict_nonann[x].loc[z+1, x]"
   ]
  },
  {
   "cell_type": "code",
   "execution_count": 12,
   "metadata": {},
   "outputs": [],
   "source": [
    "##annex I\n",
    "df_ann_site = pd.DataFrame\n",
    "df_ann_dev = pd.DataFrame\n",
    "df_ann_finv = pd.DataFrame\n",
    "df_ann_loans = pd.DataFrame\n",
    "df_ann_under = pd.DataFrame\n",
    "#df_ann_fin = pd.DataFrame\n",
    "df_ann_inv = pd.DataFrame\n",
    "\n",
    "dict_ann = {'site_em_%':df_ann_site, 'dev_em_%' : df_ann_dev, 'finv_em_%':df_ann_finv, \\\n",
    "            'loans_em_%':df_ann_loans, 'under_em_%':df_ann_under, 'inv_em_%':df_ann_inv} # 'fin_em_%':df_ann_fin,"
   ]
  },
  {
   "cell_type": "code",
   "execution_count": 13,
   "metadata": {},
   "outputs": [],
   "source": [
    "for x in dict_ann.keys():\n",
    "    dict_ann[x] = df_em_graph_annI.groupby(['FIN Country'], as_index=False)[[x]].\\\n",
    "        sum().sort_values(x, ascending=False).reset_index(drop=True)\n",
    "    dict_ann[x] = dict_ann[x].append({'FIN Country':'Other', x:0}, ignore_index=True)\n",
    "    idx_other = len(dict_ann[x])-1\n",
    "    for y in range(0, len(dict_ann[x])-1):\n",
    "        if dict_ann[x].loc[y, x] <=var_min_share:\n",
    "            dict_ann[x].loc[idx_other, x] += dict_ann[x].loc[y, x]\n",
    "            dict_ann[x].drop(y, inplace=True)\n",
    "    dict_ann[x].reset_index(drop=True, inplace=True)"
   ]
  },
  {
   "cell_type": "code",
   "execution_count": 14,
   "metadata": {},
   "outputs": [],
   "source": [
    "#add sum so that I can draw a line in graph\n",
    "##other way around than for non-annexI\n",
    "for x in dict_ann.keys():\n",
    "    dict_ann[x][x+'_sum'] = 100 - dict_ann[x][x].sum()\n",
    "    for z in range(1, len(dict_ann[x])):\n",
    "        dict_ann[x].loc[z, x+'_sum'] = dict_ann[x].loc[z-1, x+'_sum'] + dict_ann[x].loc[z-1, x]"
   ]
  },
  {
   "cell_type": "code",
   "execution_count": 15,
   "metadata": {},
   "outputs": [],
   "source": [
    "df_an_graph = df_em_graph.groupby(['FIN Annex 1'])[['site_em_%', 'dev_em_%', 'finv_em_%', \\\n",
    "                                                    'loans_em_%', 'under_em_%', 'inv_em_%', ]].sum()\n",
    "df_an_graph =  df_an_graph.transpose()"
   ]
  },
  {
   "cell_type": "code",
   "execution_count": 20,
   "metadata": {},
   "outputs": [
    {
     "data": {
      "image/png": "[encoded data removed]",
      "text/plain": [
       "<Figure size 864x432 with 1 Axes>"
      ]
     },
     "metadata": {
      "needs_background": "light"
     },
     "output_type": "display_data"
    }
   ],
   "source": [
    "#plot graph with bars for each fin component, bars stacked non- & annex 1, share of total! \n",
    "##make lists for the color of the bars\n",
    "list_color_light = [dict_colors['light red'], dict_colors['light red'], dict_colors['light grey'], \\\n",
    "                    dict_colors['light green'], dict_colors['light green'], dict_colors['light blue']]\n",
    "list_color_dark = [dict_colors['dark red'], dict_colors['dark red'], dict_colors['dark grey'], \\\n",
    "                    dict_colors['dark green'], dict_colors['dark green'], dict_colors['dark blue']]\n",
    "\n",
    "#set parameters\n",
    "hfont = {'fontname':'Times New Roman'}\n",
    "fs = 15\n",
    "\n",
    "fig, ax1 = plt.subplots(figsize=(12,6))\n",
    "#ax2 = ax1.twinx()\n",
    "\n",
    "#plot stacked barplot\n",
    "width = 0.8\n",
    "\n",
    "ax1.bar(df_an_graph.index, df_an_graph['annex_1'], width, \\\n",
    "        color=list_color_light, bottom = df_an_graph['non_annex_1'], label='light colors:\\nAnnex I')\n",
    "ax1.bar(df_an_graph.index, df_an_graph['non_annex_1'], width, \\\n",
    "        color=list_color_dark, label='dark colors:\\nNon-Annex I')\n",
    "\n",
    "#remove spines\n",
    "for x in ['top', 'bottom', 'right']: #left\n",
    "    ax1.spines[x].set_visible(False)       \n",
    "\n",
    "#set label\n",
    "ax1.set_ylabel('Share of Emissions in %', fontsize=fs, labelpad=fs,**hfont)\n",
    "\n",
    "#set legend\n",
    "ax1.legend(loc=\"upper left\", frameon=True, edgecolor= dict_colors['light grey'], fontsize=fs,\\\n",
    "           bbox_to_anchor=(1, 1),prop={'family':'Times New Roman','size':fs})\n",
    "\n",
    "#set font of ticks\n",
    "for tick in ax1.get_yticklabels():\n",
    "    tick.set_fontname('Times New Roman')\n",
    "\n",
    "    \n",
    "x_tick_labels = ['by Site', 'Development', 'Total Financing', 'Loans', 'Underwriting', 'Equity']\n",
    "#df_an_graph.index \n",
    "#ax1.set_xticks(np.arange(width/2, len(df_an_graph.index)+width/2, 1))\n",
    "ax1.set_xticklabels(list(x_tick_labels), fontsize=fs,**hfont) #rotation=30, ha='right'\n",
    "\n",
    "#make line connecting the bars\n",
    "n = 0\n",
    "df_an_graph_index = df_an_graph.reset_index()\n",
    "for z in df_an_graph_index.index:\n",
    "    ax1.plot((n-width/2,n+width/2),((df_an_graph_index.loc[z,'non_annex_1']),\\\n",
    "        (df_an_graph_index.loc[z,'non_annex_1'])), color=dict_colors['dark grey'])\n",
    "    if z != df_an_graph_index.index.values[-1:]:\n",
    "        ax1.plot((n+width/2,n+1-width/2), ((df_an_graph_index.loc[z,'non_annex_1']),\\\n",
    "        (df_an_graph_index.loc[z+1,'non_annex_1'])), color=dict_colors['dark grey'])\n",
    "    n+=1\n",
    "\n",
    "#SHOW BIGGEST COUNTRIES\n",
    "##Non-AnnexI\n",
    "n = 0\n",
    "for x in dict_nonann.keys():\n",
    "    for z in dict_nonann[x].index:\n",
    "        ax1.annotate(dict_nonann[x].loc[z, 'FIN Country'], \\\n",
    "                     (n,((dict_nonann[x].loc[z, x]/2)+(dict_nonann[x].loc[z, x+'_sum']))) , \\\n",
    "                 fontsize=fs-5, color='w', ha='center', va='center', **hfont)   \n",
    "        if z != dict_nonann[x].index.values[-1:]:\n",
    "            ax1.plot((n-width/2,n+width/2), ((dict_nonann[x].loc[z, x+'_sum']),\\\n",
    "                                         (dict_nonann[x].loc[z, x+'_sum'])), color='w')\n",
    "    n+=1\n",
    "#AnnexI\n",
    "n = 0\n",
    "for x in dict_ann.keys():\n",
    "    for z in dict_ann[x].index:\n",
    "        ax1.annotate(dict_ann[x].loc[z, 'FIN Country'], \\\n",
    "                     (n,((dict_ann[x].loc[z, x]/2)+(dict_ann[x].loc[z, x+'_sum']))) , \\\n",
    "                 fontsize=fs-5, color='k', ha='center', va='center', **hfont)   \n",
    "        if z != 0:\n",
    "            ax1.plot((n-width/2,n+width/2), ((dict_ann[x].loc[z, x+'_sum']),\\\n",
    "                                         (dict_ann[x].loc[z, x+'_sum'])), color='k')\n",
    "    n+=1\n",
    "\n",
    "m=0\n",
    "for x in ['site_em_Gt', 'dev_em_Gt', 'finv_em_Gt','loans_em_Gt', 'under_em_Gt', 'inv_em_Gt']:\n",
    "    var_num = df_em_graph[x].sum().round(1)\n",
    "    ax1.annotate((str(var_num)+' Gt '+'$\\mathregular{CO_2}$'), (m,103), fontsize=fs, color='k', ha='center', va='center', **hfont)\n",
    "    m+=1\n",
    "\n",
    "#save graph\n",
    "plt.savefig('.//for_paper//graphs//emissions_graph_\\\n",
    "dev_'+zd+'_fin_'+zf+'_inv_'+zi+'_for_'+str(var_min_share)+'_percent_EU28_'+timestr+'_V01.png', \\\n",
    "            bbox_inches=\"tight\", dpi=600)\n",
    "\n",
    "#plot graph\n",
    "plt.show()"
   ]
  },
  {
   "cell_type": "code",
   "execution_count": null,
   "metadata": {},
   "outputs": [],
   "source": [
    "#Development has less, because sometimes Developers country is unknown!"
   ]
  }
 ],
 "metadata": {
  "kernelspec": {
   "display_name": "Python 3",
   "language": "python",
   "name": "python3"
  },
  "language_info": {
   "codemirror_mode": {
    "name": "ipython",
    "version": 3
   },
   "file_extension": ".py",
   "mimetype": "text/x-python",
   "name": "python",
   "nbconvert_exporter": "python",
   "pygments_lexer": "ipython3",
   "version": "3.7.4"
  }
 },
 "nbformat": 4,
 "nbformat_minor": 2
}
